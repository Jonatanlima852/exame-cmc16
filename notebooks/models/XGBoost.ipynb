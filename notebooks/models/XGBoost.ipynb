{
 "cells": [
  {
   "cell_type": "markdown",
   "metadata": {},
   "source": [
    "#  Predição de Preços de Carros usando Modelos Ensemble: XGBoost \n",
    "# \n",
    "###  Este modelo implementa um modelo XGBoost para prever preços de carros."
   ]
  },
  {
   "cell_type": "markdown",
   "metadata": {},
   "source": [
    "### 1. Importação das Bibliotecas\n"
   ]
  },
  {
   "cell_type": "code",
   "execution_count": 15,
   "metadata": {},
   "outputs": [],
   "source": [
    "import numpy as np\n",
    "import pandas as pd\n",
    "from sklearn.model_selection import train_test_split, cross_val_score\n",
    "from sklearn.metrics import mean_squared_error, r2_score\n",
    "from sklearn.preprocessing import StandardScaler, OrdinalEncoder\n",
    "import matplotlib.pyplot as plt\n",
    "from sklearn.impute import KNNImputer\n",
    "from xgboost import XGBRegressor\n",
    "import joblib\n"
   ]
  },
  {
   "cell_type": "markdown",
   "metadata": {},
   "source": [
    "### 2. Funções Auxiliares"
   ]
  },
  {
   "cell_type": "code",
   "execution_count": 16,
   "metadata": {},
   "outputs": [],
   "source": [
    "def knn_input(df, n_neighbors=5):   \n",
    "    df_encoded = df.copy()\n",
    "    for col in df_encoded.select_dtypes(include='object').columns:\n",
    "        df_encoded[col] = df_encoded[col].astype('category').cat.codes\n",
    "    knn_imputer = KNNImputer(n_neighbors=n_neighbors)\n",
    "    df_imputed = pd.DataFrame(knn_imputer.fit_transform(df_encoded), columns=df_encoded.columns)\n",
    "    for col in df.select_dtypes(include='object').columns:\n",
    "        df_imputed[col] = df_imputed[col].round().astype(int).map(\n",
    "            dict(enumerate(df[col].astype('category').cat.categories)))\n",
    "    return df_imputed\n",
    "\n",
    "def remove_outliers_iqr(df, column):   \n",
    "    Q1 = df[column].quantile(0.25)\n",
    "    Q3 = df[column].quantile(0.75)\n",
    "    IQR = Q3 - Q1   \n",
    "    lower_bound = Q1 - 1.5 * IQR\n",
    "    upper_bound = Q3 + 1.5 * IQR    \n",
    "    df_out = df[(df[column] >= lower_bound) & (df[column] <= upper_bound)]\n",
    "    return df_out"
   ]
  },
  {
   "cell_type": "markdown",
   "metadata": {},
   "source": [
    "### 3. Carregamento e Pré-processamento dos Dados"
   ]
  },
  {
   "cell_type": "code",
   "execution_count": 17,
   "metadata": {},
   "outputs": [],
   "source": [
    "train_path = '../data/raw/train.csv'\n",
    "df = pd.read_csv(train_path)\n",
    "df.drop(axis=1, columns=['id'], inplace=True)\n"
   ]
  },
  {
   "cell_type": "code",
   "execution_count": 18,
   "metadata": {},
   "outputs": [],
   "source": [
    "df_input = knn_input(df, n_neighbors=25)\n",
    "\n",
    "\n",
    "cat_cols_train = df_input.select_dtypes(include=['object']).columns\n",
    "cat_cols_train = cat_cols_train[cat_cols_train != 'class']\n",
    "ordinal_encoder = OrdinalEncoder(handle_unknown='use_encoded_value', unknown_value=-1)\n",
    "\n",
    "\n",
    "df_input[cat_cols_train] = ordinal_encoder.fit_transform(df_input[cat_cols_train].astype(str))"
   ]
  },
  {
   "cell_type": "code",
   "execution_count": 19,
   "metadata": {},
   "outputs": [
    {
     "data": {
      "text/plain": [
       "['../models/ordinal_encoder.pkl']"
      ]
     },
     "execution_count": 19,
     "metadata": {},
     "output_type": "execute_result"
    }
   ],
   "source": [
    "encoder_path = '../models/ordinal_encoder.pkl'\n",
    "joblib.dump(ordinal_encoder, encoder_path)"
   ]
  },
  {
   "cell_type": "code",
   "execution_count": 20,
   "metadata": {},
   "outputs": [],
   "source": [
    "df_input['engine_transmission'] = df_input['engine'] * df_input['transmission']\n",
    "\n",
    "df_input['int_ext_color'] = df_input['int_col']*df_input['ext_col']\n",
    "\n",
    "df_input.drop(columns = ['engine', 'transmission', 'int_col', 'ext_col'], inplace = True)\n",
    "\n",
    "df_input['car_age'] = 2024 - df_input['model_year'] ## Adicionado em relação aos demais modelos\n",
    "\n",
    "df_input.drop(axis=1, columns=['model_year'], inplace=True)\n",
    "\n",
    "df_input.drop(axis=1, columns=['clean_title'], inplace=True)\n"
   ]
  },
  {
   "cell_type": "code",
   "execution_count": 21,
   "metadata": {},
   "outputs": [],
   "source": [
    "df_train_no_outliers = remove_outliers_iqr(df_input, 'milage')\n",
    "df_train_no_outliers = remove_outliers_iqr(df_train_no_outliers, 'price')\n",
    "df_train_no_outliers.reset_index(drop=True, inplace=True)\n",
    "df = df_train_no_outliers"
   ]
  },
  {
   "cell_type": "markdown",
   "metadata": {},
   "source": [
    "### 4. Preparação para Modelagem"
   ]
  },
  {
   "cell_type": "code",
   "execution_count": 22,
   "metadata": {},
   "outputs": [],
   "source": [
    "seed = 42\n",
    "y = df['price'] \n",
    "X = df.drop(['price'], axis=1)\n",
    "X_train, X_test, y_train, y_test = train_test_split(X, y, test_size=0.2, random_state=seed)"
   ]
  },
  {
   "cell_type": "code",
   "execution_count": 23,
   "metadata": {},
   "outputs": [],
   "source": [
    "scaler = StandardScaler()\n",
    "X_train.loc[:, ['brand','model', 'milage', 'int_ext_color', 'engine_transmission']] = scaler.fit_transform(X_train.loc[:, ['brand','model', 'milage', 'int_ext_color', 'engine_transmission']] )\n",
    "X_test.loc[:, ['brand','model', 'milage', 'int_ext_color', 'engine_transmission']]  = scaler.transform(X_test.loc[:, ['brand','model', 'milage', 'int_ext_color', 'engine_transmission']] )"
   ]
  },
  {
   "cell_type": "markdown",
   "metadata": {},
   "source": [
    "### 5. Treinamento e Avaliação do Modelo"
   ]
  },
  {
   "cell_type": "code",
   "execution_count": 24,
   "metadata": {},
   "outputs": [
    {
     "name": "stdout",
     "output_type": "stream",
     "text": [
      "XGBoost RMSE: 13067.48\n",
      "XGBoost R²: 0.63\n"
     ]
    }
   ],
   "source": [
    "xgb_model = XGBRegressor(n_estimators=100, learning_rate=0.1, random_state=42)\n",
    "xgb_model.fit(X_train, y_train)\n",
    "xgb_pred = xgb_model.predict(X_test)\n",
    "xgb_rmse = np.sqrt(mean_squared_error(y_test, xgb_pred))\n",
    "xgb_r2 = r2_score(y_test, xgb_pred)\n",
    "print(f\"XGBoost RMSE: {xgb_rmse:.2f}\")\n",
    "print(f\"XGBoost R²: {xgb_r2:.2f}\")"
   ]
  },
  {
   "cell_type": "code",
   "execution_count": 28,
   "metadata": {},
   "outputs": [
    {
     "data": {
      "text/html": [
       "<div>\n",
       "<style scoped>\n",
       "    .dataframe tbody tr th:only-of-type {\n",
       "        vertical-align: middle;\n",
       "    }\n",
       "\n",
       "    .dataframe tbody tr th {\n",
       "        vertical-align: top;\n",
       "    }\n",
       "\n",
       "    .dataframe thead th {\n",
       "        text-align: right;\n",
       "    }\n",
       "</style>\n",
       "<table border=\"1\" class=\"dataframe\">\n",
       "  <thead>\n",
       "    <tr style=\"text-align: right;\">\n",
       "      <th></th>\n",
       "      <th>brand</th>\n",
       "      <th>model</th>\n",
       "      <th>milage</th>\n",
       "      <th>fuel_type</th>\n",
       "      <th>accident</th>\n",
       "      <th>engine_transmission</th>\n",
       "      <th>int_ext_color</th>\n",
       "      <th>car_age</th>\n",
       "    </tr>\n",
       "  </thead>\n",
       "  <tbody>\n",
       "    <tr>\n",
       "      <th>153468</th>\n",
       "      <td>0.818007</td>\n",
       "      <td>0.390376</td>\n",
       "      <td>-0.182914</td>\n",
       "      <td>2.0</td>\n",
       "      <td>1.0</td>\n",
       "      <td>-0.966294</td>\n",
       "      <td>-0.294254</td>\n",
       "      <td>6.0</td>\n",
       "    </tr>\n",
       "    <tr>\n",
       "      <th>109881</th>\n",
       "      <td>-0.569629</td>\n",
       "      <td>-0.387140</td>\n",
       "      <td>1.197244</td>\n",
       "      <td>2.0</td>\n",
       "      <td>1.0</td>\n",
       "      <td>-0.017102</td>\n",
       "      <td>-0.331430</td>\n",
       "      <td>16.0</td>\n",
       "    </tr>\n",
       "    <tr>\n",
       "      <th>70235</th>\n",
       "      <td>0.250338</td>\n",
       "      <td>0.863398</td>\n",
       "      <td>-0.099469</td>\n",
       "      <td>2.0</td>\n",
       "      <td>1.0</td>\n",
       "      <td>-0.703605</td>\n",
       "      <td>-0.536442</td>\n",
       "      <td>4.0</td>\n",
       "    </tr>\n",
       "    <tr>\n",
       "      <th>118545</th>\n",
       "      <td>1.890271</td>\n",
       "      <td>1.257901</td>\n",
       "      <td>-1.305263</td>\n",
       "      <td>2.0</td>\n",
       "      <td>1.0</td>\n",
       "      <td>0.934479</td>\n",
       "      <td>-0.580574</td>\n",
       "      <td>1.0</td>\n",
       "    </tr>\n",
       "    <tr>\n",
       "      <th>3699</th>\n",
       "      <td>0.502635</td>\n",
       "      <td>-0.726107</td>\n",
       "      <td>0.873610</td>\n",
       "      <td>2.0</td>\n",
       "      <td>1.0</td>\n",
       "      <td>-1.421409</td>\n",
       "      <td>-0.439045</td>\n",
       "      <td>13.0</td>\n",
       "    </tr>\n",
       "    <tr>\n",
       "      <th>...</th>\n",
       "      <td>...</td>\n",
       "      <td>...</td>\n",
       "      <td>...</td>\n",
       "      <td>...</td>\n",
       "      <td>...</td>\n",
       "      <td>...</td>\n",
       "      <td>...</td>\n",
       "      <td>...</td>\n",
       "    </tr>\n",
       "    <tr>\n",
       "      <th>4749</th>\n",
       "      <td>1.259528</td>\n",
       "      <td>0.604864</td>\n",
       "      <td>-0.403966</td>\n",
       "      <td>2.0</td>\n",
       "      <td>0.0</td>\n",
       "      <td>0.458688</td>\n",
       "      <td>-0.580574</td>\n",
       "      <td>8.0</td>\n",
       "    </tr>\n",
       "    <tr>\n",
       "      <th>45198</th>\n",
       "      <td>0.061115</td>\n",
       "      <td>1.552821</td>\n",
       "      <td>-1.386422</td>\n",
       "      <td>2.0</td>\n",
       "      <td>1.0</td>\n",
       "      <td>-0.215952</td>\n",
       "      <td>4.398179</td>\n",
       "      <td>1.0</td>\n",
       "    </tr>\n",
       "    <tr>\n",
       "      <th>34464</th>\n",
       "      <td>-1.011149</td>\n",
       "      <td>-0.542261</td>\n",
       "      <td>-0.753080</td>\n",
       "      <td>2.0</td>\n",
       "      <td>1.0</td>\n",
       "      <td>0.159177</td>\n",
       "      <td>0.933096</td>\n",
       "      <td>3.0</td>\n",
       "    </tr>\n",
       "    <tr>\n",
       "      <th>95351</th>\n",
       "      <td>1.890271</td>\n",
       "      <td>-0.716532</td>\n",
       "      <td>1.172234</td>\n",
       "      <td>2.0</td>\n",
       "      <td>1.0</td>\n",
       "      <td>-1.344307</td>\n",
       "      <td>1.181262</td>\n",
       "      <td>21.0</td>\n",
       "    </tr>\n",
       "    <tr>\n",
       "      <th>161427</th>\n",
       "      <td>1.701048</td>\n",
       "      <td>0.047580</td>\n",
       "      <td>0.631371</td>\n",
       "      <td>2.0</td>\n",
       "      <td>0.0</td>\n",
       "      <td>-1.347272</td>\n",
       "      <td>-0.224468</td>\n",
       "      <td>9.0</td>\n",
       "    </tr>\n",
       "  </tbody>\n",
       "</table>\n",
       "<p>35180 rows × 8 columns</p>\n",
       "</div>"
      ],
      "text/plain": [
       "           brand     model    milage  fuel_type  accident  \\\n",
       "153468  0.818007  0.390376 -0.182914        2.0       1.0   \n",
       "109881 -0.569629 -0.387140  1.197244        2.0       1.0   \n",
       "70235   0.250338  0.863398 -0.099469        2.0       1.0   \n",
       "118545  1.890271  1.257901 -1.305263        2.0       1.0   \n",
       "3699    0.502635 -0.726107  0.873610        2.0       1.0   \n",
       "...          ...       ...       ...        ...       ...   \n",
       "4749    1.259528  0.604864 -0.403966        2.0       0.0   \n",
       "45198   0.061115  1.552821 -1.386422        2.0       1.0   \n",
       "34464  -1.011149 -0.542261 -0.753080        2.0       1.0   \n",
       "95351   1.890271 -0.716532  1.172234        2.0       1.0   \n",
       "161427  1.701048  0.047580  0.631371        2.0       0.0   \n",
       "\n",
       "        engine_transmission  int_ext_color  car_age  \n",
       "153468            -0.966294      -0.294254      6.0  \n",
       "109881            -0.017102      -0.331430     16.0  \n",
       "70235             -0.703605      -0.536442      4.0  \n",
       "118545             0.934479      -0.580574      1.0  \n",
       "3699              -1.421409      -0.439045     13.0  \n",
       "...                     ...            ...      ...  \n",
       "4749               0.458688      -0.580574      8.0  \n",
       "45198             -0.215952       4.398179      1.0  \n",
       "34464              0.159177       0.933096      3.0  \n",
       "95351             -1.344307       1.181262     21.0  \n",
       "161427            -1.347272      -0.224468      9.0  \n",
       "\n",
       "[35180 rows x 8 columns]"
      ]
     },
     "execution_count": 28,
     "metadata": {},
     "output_type": "execute_result"
    }
   ],
   "source": [
    "X_test"
   ]
  },
  {
   "cell_type": "markdown",
   "metadata": {},
   "source": [
    "### 6. Análise de Feature Importance"
   ]
  },
  {
   "cell_type": "code",
   "execution_count": 26,
   "metadata": {},
   "outputs": [
    {
     "data": {
      "image/png": "[encoded data removed]",
      "text/plain": [
       "<Figure size 1000x600 with 1 Axes>"
      ]
     },
     "metadata": {},
     "output_type": "display_data"
    }
   ],
   "source": [
    "def plot_feature_importance(model, title):\n",
    "    importance_df = pd.DataFrame({\n",
    "        'feature': X.columns,\n",
    "        'importance': model.feature_importances_\n",
    "    })\n",
    "    importance_df = importance_df.sort_values('importance', ascending=False)\n",
    "    plt.figure(figsize=(10, 6))\n",
    "    plt.bar(importance_df['feature'], importance_df['importance'])\n",
    "    plt.xticks(rotation=45)\n",
    "    plt.title(f'Feature Importance - {title}')\n",
    "    plt.tight_layout()\n",
    "    plt.show()\n",
    "\n",
    "plot_feature_importance(xgb_model, 'Random Forest')"
   ]
  },
  {
   "cell_type": "code",
   "execution_count": 27,
   "metadata": {},
   "outputs": [
    {
     "data": {
      "text/plain": [
       "['../models/car_price_xgb_model.pkl']"
      ]
     },
     "execution_count": 27,
     "metadata": {},
     "output_type": "execute_result"
    }
   ],
   "source": [
    "model_name = 'xgb_model'\n",
    "model_path = f'../models/car_price_{model_name}.pkl'\n",
    "joblib.dump(xgb_model, model_path)"
   ]
  }
 ],
 "metadata": {
  "kernelspec": {
   "display_name": ".venv",
   "language": "python",
   "name": "python3"
  },
  "language_info": {
   "codemirror_mode": {
    "name": "ipython",
    "version": 3
   },
   "file_extension": ".py",
   "mimetype": "text/x-python",
   "name": "python",
   "nbconvert_exporter": "python",
   "pygments_lexer": "ipython3",
   "version": "3.10.8"
  }
 },
 "nbformat": 4,
 "nbformat_minor": 2
}
